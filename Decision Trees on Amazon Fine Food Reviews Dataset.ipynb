{
 "cells": [
  {
   "cell_type": "markdown",
   "metadata": {},
   "source": [
    "# <center> Decision Trees on Amazon Fine Food Reviews Dataset </center>\n",
    "___"
   ]
  },
  {
   "cell_type": "markdown",
   "metadata": {},
   "source": [
    "###  <b>Exercise</b> :\n",
    "\n",
    "1.\tDownload Amazon Fine Food Reviews dataset from Kaggle. You may have to create a Kaggle account to download data. (https://www.kaggle.com/snap/amazon-fine-food-reviews)\n",
    "2.\tSplit data into train and test using time based slicing as 70%  train & 30% test.\n",
    "3.\tPerform featurization Avg Word2Vec, tf-idf-Word2Vec.\n",
    "4.\tApply GridsearchCV on train data to find optimal depth.\n",
    "5.\tAlso plot depth values vs error.\n",
    "6.\tApply Decision Tree on dataset.\n",
    "7.\tTo test the performance of the model, calculate test error, train error, accuracy,precision,recall,F1-score,confusion matrix(TPR,TNR,FPR,FNR)\n",
    "8.\tWrite your observations in English as crisply and unambiguously as possible. Always quantify your results.\n",
    "\n"
   ]
  },
  {
   "cell_type": "markdown",
   "metadata": {},
   "source": [
    "### Information regarding data set :\n",
    "\n",
    "1. <b>Title</b>: Amazon Fine Food Reviews Data\n",
    "\n",
    "2. <b>Sources</b>: Stanford Network Analysis Project(SNAP)\n",
    "\n",
    "3. <b>Relevant Information</b>: This dataset consists of reviews of fine foods from amazon. The data span a period of more than 10 years, including all ~568,454 reviews up to October 2012(Oct 1999 - Oct 2012). Reviews include product and user information, ratings, and a plain text review.\n",
    "4.  <b>Attribute Information</b>:   \n",
    "    <b>ProductId </b>- unique identifier for the product <br/>\n",
    "    <b>UserId </b>- unqiue identifier for the user <br/>\n",
    "    <b>ProfileName </b>- name of the user <br/>\n",
    "    <b>HelpfulnessNumerator </b>- number of users who found the review helpful <br/>\n",
    "    <b>HelpfulnessDenominator </b>- number of users who indicated whether they found the review helpful or not <br/>\n",
    "    <b>Score </b>- rating between 1 and 5.( rating of 4 or 5 could be cosnidered a positive review. A review of 1 or 2 could be considered negative. A review of 3 is nuetral and ignored) <br/>\n",
    "    <b>Time </b>- timestamp for the review <br/> \n",
    "    <b>Summary </b>- brief summary of the review <br/>\n",
    "    <b>Text </b>- text of the review <br/>"
   ]
  },
  {
   "cell_type": "markdown",
   "metadata": {},
   "source": [
    "---\n",
    "\n",
    "### <b>Objective :</b> \n",
    "> <span style=\"color:blue\">It is a 2-class classification task, where we have to analyze, transform(Avg Word2ec and TFIDF Word2Vec) and find a separating decision surface, which can evaluate whether a review is positive or negative.<span>\n",
    "\n",
    "---\n"
   ]
  },
  {
   "cell_type": "code",
   "execution_count": 2,
   "metadata": {
    "scrolled": false
   },
   "outputs": [],
   "source": [
    "import warnings\n",
    "from sklearn.exceptions import DataConversionWarning\n",
    "warnings.filterwarnings(action='ignore', category=DataConversionWarning)\n",
    "warnings.filterwarnings(action='ignore', category=UserWarning)\n",
    "warnings.filterwarnings(action='ignore', category=FutureWarning)\n",
    "\n",
    "import traceback\n",
    "import sqlite3\n",
    "import itertools\n",
    "import pandas as pd\n",
    "import numpy as np\n",
    "import datetime as dt\n",
    "import matplotlib.pyplot as plt\n",
    "import seaborn as sn\n",
    "from tqdm import tqdm\n",
    "from gensim.models import Word2Vec\n",
    "from sklearn.feature_extraction.text import TfidfVectorizer\n",
    "from sklearn.feature_extraction.text import CountVectorizer\n",
    "from sklearn.model_selection import train_test_split\n",
    "from prettytable import PrettyTable\n",
    "from sklearn.metrics import accuracy_score,precision_score,recall_score,confusion_matrix,classification_report,make_scorer\n",
    "from sklearn.model_selection import GridSearchCV\n",
    "from sklearn.model_selection import TimeSeriesSplit\n",
    "from sklearn.tree import DecisionTreeClassifier"
   ]
  },
  {
   "cell_type": "markdown",
   "metadata": {},
   "source": [
    "### (1) Load dataset :"
   ]
  },
  {
   "cell_type": "code",
   "execution_count": 3,
   "metadata": {
    "scrolled": false
   },
   "outputs": [
    {
     "name": "stdout",
     "output_type": "stream",
     "text": [
      "Dataset Shape : \n",
      " (351237, 11)\n",
      "\n",
      "Column Names: \n",
      " Index(['Id', 'ProductId', 'UserId', 'ProfileName', 'HelpfulnessNumerator',\n",
      "       'HelpfulnessDenominator', 'Score', 'Time', 'Summary', 'Text',\n",
      "       'CleanedText'],\n",
      "      dtype='object')\n",
      "\n",
      "Target Class label : \n",
      "positive    297807\n",
      "negative     53430\n",
      "Name: Score, dtype: int64\n",
      "\n"
     ]
    },
    {
     "data": {
      "image/png": "[encoded data removed]",
      "text/plain": [
       "<Figure size 360x360 with 1 Axes>"
      ]
     },
     "metadata": {
      "needs_background": "light"
     },
     "output_type": "display_data"
    },
    {
     "data": {
      "text/html": [
       "<div>\n",
       "<style scoped>\n",
       "    .dataframe tbody tr th:only-of-type {\n",
       "        vertical-align: middle;\n",
       "    }\n",
       "\n",
       "    .dataframe tbody tr th {\n",
       "        vertical-align: top;\n",
       "    }\n",
       "\n",
       "    .dataframe thead th {\n",
       "        text-align: right;\n",
       "    }\n",
       "</style>\n",
       "<table border=\"1\" class=\"dataframe\">\n",
       "  <thead>\n",
       "    <tr style=\"text-align: right;\">\n",
       "      <th></th>\n",
       "      <th>Id</th>\n",
       "      <th>ProductId</th>\n",
       "      <th>UserId</th>\n",
       "      <th>ProfileName</th>\n",
       "      <th>HelpfulnessNumerator</th>\n",
       "      <th>HelpfulnessDenominator</th>\n",
       "      <th>Score</th>\n",
       "      <th>Time</th>\n",
       "      <th>Summary</th>\n",
       "      <th>Text</th>\n",
       "      <th>CleanedText</th>\n",
       "    </tr>\n",
       "  </thead>\n",
       "  <tbody>\n",
       "    <tr>\n",
       "      <th>382</th>\n",
       "      <td>451856</td>\n",
       "      <td>B00004CXX9</td>\n",
       "      <td>AIUWLEQ1ADEG5</td>\n",
       "      <td>Elizabeth Medina</td>\n",
       "      <td>0</td>\n",
       "      <td>0</td>\n",
       "      <td>positive</td>\n",
       "      <td>1999-12-02 05:30:00</td>\n",
       "      <td>Entertainingl Funny!</td>\n",
       "      <td>Beetlejuice is a well written movie ..... ever...</td>\n",
       "      <td>beetlejuic well written movi everyth excel act...</td>\n",
       "    </tr>\n",
       "    <tr>\n",
       "      <th>250</th>\n",
       "      <td>374359</td>\n",
       "      <td>B00004CI84</td>\n",
       "      <td>A344SMIA5JECGM</td>\n",
       "      <td>Vincent P. Ross</td>\n",
       "      <td>1</td>\n",
       "      <td>2</td>\n",
       "      <td>positive</td>\n",
       "      <td>1999-12-06 05:30:00</td>\n",
       "      <td>A modern day fairy tale</td>\n",
       "      <td>A twist of rumplestiskin captured on film, sta...</td>\n",
       "      <td>twist rumplestiskin captur film star michael k...</td>\n",
       "    </tr>\n",
       "    <tr>\n",
       "      <th>383</th>\n",
       "      <td>451855</td>\n",
       "      <td>B00004CXX9</td>\n",
       "      <td>AJH6LUC1UT1ON</td>\n",
       "      <td>The Phantom of the Opera</td>\n",
       "      <td>0</td>\n",
       "      <td>0</td>\n",
       "      <td>positive</td>\n",
       "      <td>2000-01-03 05:30:00</td>\n",
       "      <td>FANTASTIC!</td>\n",
       "      <td>Beetlejuice is an excellent and funny movie. K...</td>\n",
       "      <td>beetlejuic excel funni movi keaton hilari wack...</td>\n",
       "    </tr>\n",
       "    <tr>\n",
       "      <th>269</th>\n",
       "      <td>374422</td>\n",
       "      <td>B00004CI84</td>\n",
       "      <td>A1048CYU0OV4O8</td>\n",
       "      <td>Judy L. Eans</td>\n",
       "      <td>2</td>\n",
       "      <td>2</td>\n",
       "      <td>positive</td>\n",
       "      <td>2000-01-09 05:30:00</td>\n",
       "      <td>GREAT</td>\n",
       "      <td>THIS IS ONE MOVIE THAT SHOULD BE IN YOUR MOVIE...</td>\n",
       "      <td>one movi movi collect fill comedi action whate...</td>\n",
       "    </tr>\n",
       "    <tr>\n",
       "      <th>369</th>\n",
       "      <td>374343</td>\n",
       "      <td>B00004CI84</td>\n",
       "      <td>A1B2IZU1JLZA6</td>\n",
       "      <td>Wes</td>\n",
       "      <td>19</td>\n",
       "      <td>23</td>\n",
       "      <td>negative</td>\n",
       "      <td>2000-01-19 05:30:00</td>\n",
       "      <td>WARNING: CLAMSHELL EDITION IS EDITED TV VERSION</td>\n",
       "      <td>I, myself always enjoyed this movie, it's very...</td>\n",
       "      <td>alway enjoy movi funni entertain didnt hesit p...</td>\n",
       "    </tr>\n",
       "  </tbody>\n",
       "</table>\n",
       "</div>"
      ],
      "text/plain": [
       "         Id   ProductId          UserId               ProfileName  \\\n",
       "382  451856  B00004CXX9   AIUWLEQ1ADEG5          Elizabeth Medina   \n",
       "250  374359  B00004CI84  A344SMIA5JECGM           Vincent P. Ross   \n",
       "383  451855  B00004CXX9   AJH6LUC1UT1ON  The Phantom of the Opera   \n",
       "269  374422  B00004CI84  A1048CYU0OV4O8              Judy L. Eans   \n",
       "369  374343  B00004CI84   A1B2IZU1JLZA6                       Wes   \n",
       "\n",
       "     HelpfulnessNumerator  HelpfulnessDenominator     Score  \\\n",
       "382                     0                       0  positive   \n",
       "250                     1                       2  positive   \n",
       "383                     0                       0  positive   \n",
       "269                     2                       2  positive   \n",
       "369                    19                      23  negative   \n",
       "\n",
       "                   Time                                          Summary  \\\n",
       "382 1999-12-02 05:30:00                             Entertainingl Funny!   \n",
       "250 1999-12-06 05:30:00                          A modern day fairy tale   \n",
       "383 2000-01-03 05:30:00                                       FANTASTIC!   \n",
       "269 2000-01-09 05:30:00                                            GREAT   \n",
       "369 2000-01-19 05:30:00  WARNING: CLAMSHELL EDITION IS EDITED TV VERSION   \n",
       "\n",
       "                                                  Text  \\\n",
       "382  Beetlejuice is a well written movie ..... ever...   \n",
       "250  A twist of rumplestiskin captured on film, sta...   \n",
       "383  Beetlejuice is an excellent and funny movie. K...   \n",
       "269  THIS IS ONE MOVIE THAT SHOULD BE IN YOUR MOVIE...   \n",
       "369  I, myself always enjoyed this movie, it's very...   \n",
       "\n",
       "                                           CleanedText  \n",
       "382  beetlejuic well written movi everyth excel act...  \n",
       "250  twist rumplestiskin captur film star michael k...  \n",
       "383  beetlejuic excel funni movi keaton hilari wack...  \n",
       "269  one movi movi collect fill comedi action whate...  \n",
       "369  alway enjoy movi funni entertain didnt hesit p...  "
      ]
     },
     "execution_count": 3,
     "metadata": {},
     "output_type": "execute_result"
    }
   ],
   "source": [
    "# This dataset is already gone through data deduplication and text preprocessing, so it is approx ~364K\n",
    "\n",
    "# For Data Cleaning Steps follow this link -\n",
    "# ipython notebook - https://drive.google.com/open?id=1JXCva5vXdIPgHbfNdD9sgnySqELoVtpy\n",
    "# dataset - https://drive.google.com/open?id=1IoDoTT8TfDu53N6cyKg6xVCU-FDPHyIF\n",
    "\n",
    "# For Text Preporcessing Steps follow this link -\n",
    "# ipython notebook - https://drive.google.com/open?id=18-AkTzzEhCwM_hflIbDNBMAP-imX4k4i\n",
    "# dataset - https://drive.google.com/open?id=1SfDwwXFhDpjgtfIE5O_E80SO89xRc8Sa\n",
    "\n",
    "# Load dataset\n",
    "def load_review_dataset():\n",
    "    # Create connection object to load sqlite dataset\n",
    "    connection = sqlite3.connect('finalDataSet.sqlite')\n",
    "\n",
    "    # Load data into pandas dataframe.\n",
    "    reviews_df = pd.read_sql_query(\"\"\" SELECT * FROM Reviews \"\"\",connection)\n",
    "\n",
    "    # Drop index column \n",
    "    reviews_df = reviews_df.drop(columns=['index'])\n",
    "    \n",
    "    # Take sample of reviews   \n",
    "    # reviews_df = reviews_df.sample(100000)\n",
    "        \n",
    "    # Convert timestamp to datetime.\n",
    "    reviews_df['Time'] = reviews_df[['Time']].applymap(lambda x: dt.datetime.fromtimestamp(x))\n",
    "\n",
    "    # Sort the data on the basis of time.\n",
    "    reviews_df = reviews_df.sort_values(by=['Time'])\n",
    "\n",
    "    print(\"Dataset Shape : \\n\",reviews_df.shape)\n",
    "    print(\"\\nColumn Names: \\n\",reviews_df.columns)\n",
    "    print(\"\\nTarget Class label : \")\n",
    "    print(reviews_df['Score'].value_counts())\n",
    "    print()   \n",
    "    \n",
    "    return reviews_df\n",
    "\n",
    "\n",
    "# Load 'finalDataSet.sqlite' in panda's daraframe.\n",
    "reviews_df = load_review_dataset()\n",
    "\n",
    "# Split data into train and test\n",
    "X_TRAIN, X_TEST, Y_TRAIN, Y_TEST = train_test_split(reviews_df['CleanedText'].values,\n",
    "                                                    reviews_df['Score'].values,\n",
    "                                                    test_size=0.3,\n",
    "                                                    shuffle=False,\n",
    "                                                    random_state=0)\n",
    "\n",
    "# Plot score\n",
    "sn.catplot(x =\"Score\",kind='count',data=reviews_df,height=5)\n",
    "plt.title(\"Score Count\", fontsize=18)\n",
    "plt.show()\n",
    "reviews_df.head()"
   ]
  },
  {
   "cell_type": "code",
   "execution_count": 4,
   "metadata": {
    "scrolled": false
   },
   "outputs": [],
   "source": [
    "###--- All utility variables and functions(After importing all the necessary packages, always run this cell first.) ---###\n",
    "\n",
    "# hyperparameter depth\n",
    "list_depth = []\n",
    "\n",
    "# Training Error\n",
    "train_error = []\n",
    "\n",
    "# Test Error\n",
    "test_error = []\n",
    "\n",
    "\n",
    "def plot_report_confusion_matrix(confusion_matrix, classes,\n",
    "                          normalize=False,\n",
    "                          title='Confusion matrix',\n",
    "                          cmap=plt.cm.Blues):    \n",
    "    plt.figure()\n",
    "    plt.imshow(confusion_matrix, interpolation='nearest', cmap=cmap)\n",
    "    plt.title(title)\n",
    "    plt.colorbar()\n",
    "    tick_marks = np.arange(len(classes))\n",
    "    plt.xticks(tick_marks, classes, rotation=45)\n",
    "    plt.yticks(tick_marks, classes)\n",
    "\n",
    "    fmt = '.2f' if normalize else 'd'\n",
    "    thresh = confusion_matrix.max() / 2.\n",
    "    for i, j in itertools.product(range(confusion_matrix.shape[0]), range(confusion_matrix.shape[1])):\n",
    "        plt.text(j, i, format(confusion_matrix[i, j], fmt),\n",
    "                 horizontalalignment=\"center\",\n",
    "                 color=\"white\" if confusion_matrix[i, j] > thresh else \"black\")\n",
    "\n",
    "    plt.ylabel('True label')\n",
    "    plt.xlabel('Predicted label')\n",
    "    plt.tight_layout()\n",
    "    plt.show()\n",
    "    \n",
    "    TN = confusion_matrix[0,0]       \n",
    "    FP = confusion_matrix[0,1]  \n",
    "    FN = confusion_matrix[1,0]\n",
    "    TP = confusion_matrix[1,1]\n",
    "    \n",
    "\n",
    "    # Sensitivity, hit rate, recall, or true positive rate\n",
    "    TPR = TP/(TP+FN)\n",
    "    \n",
    "    # Specificity or true negative rate\n",
    "    TNR = TN/(TN+FP)  \n",
    "    \n",
    "    # Fall out or false positive rate\n",
    "    FPR = FP/(FP+TN)\n",
    "    \n",
    "    # False negative rate\n",
    "    FNR = FN/(TP+FN)\n",
    "    \n",
    "    # Overall accuracy\n",
    "    ACC = (TP+TN)/(TP+FP+FN+TN)\n",
    "    \n",
    "    print()\n",
    "    # Pretty table instance\n",
    "    ptable = PrettyTable()\n",
    "    ptable.title = \"Confusion Matrix Report\"\n",
    "    ptable.field_names = ['Term','Value']\n",
    "    ptable.add_row([\"TP (True Positive)\",TP])\n",
    "    ptable.add_row([\"TN (True Negative)\",TN])\n",
    "    ptable.add_row([\"FP (False Positive)\",FP])\n",
    "    ptable.add_row([\"FN (False Negative)\",FN])\n",
    "    ptable.add_row([\"TPR (True Positive Rate)= TP/(TP+FN))\",\"{0:.2f}\".format(TPR)])\n",
    "    ptable.add_row([\"TNR (True Negative Rate)= TN/(TN+FP))\",\"{0:.2f}\".format(TNR)])\n",
    "    ptable.add_row([\"FPR (False Positive Rate)= FP/(FP+TN))\",\"{0:.2f}\".format(FPR)])\n",
    "    ptable.add_row([\"FNR (False Negative Rate)= FN/(TP+FN))\",\"{0:.2f}\".format(FNR)])\n",
    "    ptable.add_row([\"ACC (Accuracy)= (TP+TN)/(TP+FP+FN+TN))\",\"{0:.2f}%\".format(ACC*100)])\n",
    "    \n",
    "    # Print pretty table values\n",
    "    print(ptable)\n",
    "    \n",
    "\n",
    "def performance_measure(classifier,x_train,x_test,y_train,y_test):\n",
    "    print(\"-------------------------- {0} --------------------------\".format(type(classifier).__name__))           \n",
    "            \n",
    "    # Predict target class label\n",
    "    predicted_y_test = classifier.predict(x_test)\n",
    "    \n",
    "    # Predict train class label\n",
    "    predicted_y_train = classifier.predict(x_train)\n",
    "            \n",
    "    ptable = PrettyTable()\n",
    "    ptable.title = \"GridSearchCV\"\n",
    "                    \n",
    "    ptable.field_names = [\"Hyperparameter (depth)\",\"Scoring\",\"Mean\",\"Variance\"]\n",
    "\n",
    "    list_means = classifier.cv_results_['mean_test_score']\n",
    "    list_stds = classifier.cv_results_['std_test_score']\n",
    "    list_params = classifier.cv_results_['params']\n",
    "    scores = dict()       \n",
    "    for mean, std, params in zip(list_means, list_stds, list_params):\n",
    "        scores[params['max_depth']] = \"{0:.2f}\".format(1 - mean)\n",
    "        ptable.add_row([params['max_depth'],\"Accuracy\", \"{0:.2f}\".format(mean), \"{0:.2f}\".format(std*2)])\n",
    "               \n",
    "    print()\n",
    "    plt.plot(scores.keys(),scores.values())\n",
    "    plt.gca().invert_yaxis()\n",
    "    plt.xlabel(\"Depth Values\")\n",
    "    plt.ylabel(\"Error Values\")\n",
    "    plt.show()\n",
    "    print()\n",
    "            \n",
    "    print()\n",
    "    print(ptable)\n",
    "    print()\n",
    "\n",
    "    optimal_depth = classifier.best_params_['max_depth']    \n",
    "    train_accuracy = accuracy_score(Y_TRAIN, predicted_y_train)\n",
    "    test_accuracy = accuracy_score(Y_TEST, predicted_y_test)\n",
    "    \n",
    "    list_depth.append(optimal_depth)  \n",
    "    \n",
    "    test_error.append(1 - test_accuracy)\n",
    "    train_error.append(1 - train_accuracy)    \n",
    "             \n",
    "    # Print Optimal hyperparameter and corresponding accuracy\n",
    "    ptable = PrettyTable()\n",
    "    ptable.title = \"Optimal depth & Testing accuracy score\"\n",
    "    ptable.field_names=[\"Cross Validation\",\"Depth value\",\"Accuracy(%)\"]\n",
    "    ptable.add_row([type(classifier).__name__ ,optimal_depth,\"{0:.2f}\".format(test_accuracy*100)])\n",
    "    print(ptable)  \n",
    "            \n",
    "    # Print classification report\n",
    "    print()          \n",
    "    ptable = PrettyTable()\n",
    "    ptable.title = \"Classification report with depth value = {0}\".format(optimal_depth)\n",
    "    ptable.field_names = [\"Class Lable/Averages\",\"Precision\", \"Recall\",\"F1-Score\",\"Support\"]\n",
    "    report_dict = classification_report(Y_TEST, predicted_y_test,output_dict = True)\n",
    "    for key , value in report_dict.items():        \n",
    "        inner_dict = value        \n",
    "        ptable.add_row([key,\n",
    "                        \"{0:.2f}\".format(inner_dict['precision']),\n",
    "                        \"{0:.2f}\".format(inner_dict['recall']),\n",
    "                        \"{0:.2f}\".format(inner_dict['f1-score']),\n",
    "                        \"{0:.2f}\".format(inner_dict['support'])])\n",
    "            \n",
    "    print(ptable)\n",
    "           \n",
    "    # Calculate and plot confusion matrix\n",
    "    cnf_mat = confusion_matrix(Y_TEST, predicted_y_test)            \n",
    "    plot_report_confusion_matrix(cnf_mat, classes=[\"negative\", \"positive\"],title='Confusion Matrix')\n",
    "    print()        \n",
    "    print()\n",
    "    \n",
    "    \n",
    "def conclude():\n",
    "    ptable=PrettyTable()\n",
    "    ptable.title = \"***Conclusion***\"\n",
    "    ptable.field_names=[\"CV\",\"Model\",\"Hyperparameter 'depth'\",\"Train Error\",\"Test Error\"]\n",
    "    \n",
    "    ptable.add_row([\"GridSearchCV\",\n",
    "                    \"BOW:Decision Tree\",\n",
    "                    list_depth[0],                    \n",
    "                    str(round(train_error[0], 2)*100)+\"%\",\n",
    "                    str(round(test_error[0], 2)*100)+\"%\"]) \n",
    "\n",
    "    ptable.add_row([\"GridSearchCV\",\n",
    "                    \"TFIDF:Decision Tree\",\n",
    "                    list_depth[1],                    \n",
    "                    str(round(train_error[1], 2)*100)+\"%\",\n",
    "                    str(round(test_error[1], 2)*100)+\"%\"]) \n",
    "\n",
    "    ptable.add_row([\"GridSearchCV\",\n",
    "                    \"AVG-WORD2VEC:Decision Tree\",\n",
    "                    list_depth[2],                    \n",
    "                    str(round(train_error[2], 2)*100)+\"%\",\n",
    "                    str(round(test_error[2], 2)*100)+\"%\"])  \n",
    "                        \n",
    "    ptable.add_row([\"GridSearchCV\",\n",
    "                    \"TFIDF-WORD2VEC:RBF-SVC\",\n",
    "                    list_depth[3],                   \n",
    "                    str(round(train_error[3], 2)*100)+\"%\",\n",
    "                    str(round(test_error[3], 2)*100)+\"%\"])\n",
    "\n",
    "    print(ptable)"
   ]
  },
  {
   "cell_type": "markdown",
   "metadata": {},
   "source": [
    "<br/><br/>"
   ]
  },
  {
   "cell_type": "markdown",
   "metadata": {},
   "source": [
    "### (2) Convert review text to vector representation :"
   ]
  },
  {
   "cell_type": "code",
   "execution_count": 5,
   "metadata": {},
   "outputs": [],
   "source": [
    "# Hyperparameter max depth and min sample split\n",
    "parameters = {'max_depth':range(3, 10)}"
   ]
  },
  {
   "cell_type": "markdown",
   "metadata": {},
   "source": [
    "#### (2.1) Bag of Words (BoW) :"
   ]
  },
  {
   "cell_type": "code",
   "execution_count": 6,
   "metadata": {},
   "outputs": [
    {
     "name": "stdout",
     "output_type": "stream",
     "text": [
      "\n",
      "The type of count vectorizer  <class 'scipy.sparse.csr.csr_matrix'>\n",
      "The shape of train matrix  (245865, 74398)\n",
      "The number of unique words in train matrix  74398\n",
      "Wall time: 14.7 s\n"
     ]
    }
   ],
   "source": [
    "%%time\n",
    "\n",
    "# Instantiate CountVectorizer\n",
    "bow_count_vectorizer = CountVectorizer()\n",
    "\n",
    "# Tokenize and build vocab\n",
    "bow_count_vectorizer.fit(X_TRAIN)\n",
    "\n",
    "# Encode document\n",
    "x_train_matrix = bow_count_vectorizer.transform(X_TRAIN)\n",
    "x_test_matrix = bow_count_vectorizer.transform(X_TEST)\n",
    "\n",
    "print(\"\\nThe type of count vectorizer \",type(x_train_matrix))\n",
    "print(\"The shape of train matrix \",x_train_matrix.get_shape())\n",
    "print(\"The number of unique words in train matrix \", x_train_matrix.get_shape()[1])\n"
   ]
  },
  {
   "cell_type": "code",
   "execution_count": 7,
   "metadata": {},
   "outputs": [
    {
     "name": "stdout",
     "output_type": "stream",
     "text": [
      "-------------------------- GridSearchCV --------------------------\n",
      "\n"
     ]
    },
    {
     "data": {
      "image/png": "[encoded data removed]",
      "text/plain": [
       "<Figure size 432x288 with 1 Axes>"
      ]
     },
     "metadata": {
      "needs_background": "light"
     },
     "output_type": "display_data"
    },
    {
     "name": "stdout",
     "output_type": "stream",
     "text": [
      "\n",
      "\n",
      "+-----------------------------------------------------+\n",
      "|                     GridSearchCV                    |\n",
      "+------------------------+----------+------+----------+\n",
      "| Hyperparameter (depth) | Scoring  | Mean | Variance |\n",
      "+------------------------+----------+------+----------+\n",
      "|           3            | Accuracy | 0.58 |   0.01   |\n",
      "|           4            | Accuracy | 0.61 |   0.01   |\n",
      "|           5            | Accuracy | 0.60 |   0.02   |\n",
      "|           6            | Accuracy | 0.63 |   0.01   |\n",
      "|           7            | Accuracy | 0.65 |   0.01   |\n",
      "|           8            | Accuracy | 0.67 |   0.02   |\n",
      "|           9            | Accuracy | 0.67 |   0.01   |\n",
      "+------------------------+----------+------+----------+\n",
      "\n",
      "+----------------------------------------------+\n",
      "|    Optimal depth & Testing accuracy score    |\n",
      "+------------------+-------------+-------------+\n",
      "| Cross Validation | Depth value | Accuracy(%) |\n",
      "+------------------+-------------+-------------+\n",
      "|   GridSearchCV   |      9      |    66.35    |\n",
      "+------------------+-------------+-------------+\n",
      "\n",
      "+------------------------------------------------------------------+\n",
      "|            Classification report with depth value = 9            |\n",
      "+----------------------+-----------+--------+----------+-----------+\n",
      "| Class Lable/Averages | Precision | Recall | F1-Score |  Support  |\n",
      "+----------------------+-----------+--------+----------+-----------+\n",
      "|       negative       |    0.31   |  0.82  |   0.45   |  17838.00 |\n",
      "|       positive       |    0.95   |  0.63  |   0.76   |  87534.00 |\n",
      "|      micro avg       |    0.66   |  0.66  |   0.66   | 105372.00 |\n",
      "|      macro avg       |    0.63   |  0.73  |   0.61   | 105372.00 |\n",
      "|     weighted avg     |    0.84   |  0.66  |   0.71   | 105372.00 |\n",
      "+----------------------+-----------+--------+----------+-----------+\n"
     ]
    },
    {
     "data": {
      "image/png": "[encoded data removed]",
      "text/plain": [
       "<Figure size 432x288 with 2 Axes>"
      ]
     },
     "metadata": {
      "needs_background": "light"
     },
     "output_type": "display_data"
    },
    {
     "name": "stdout",
     "output_type": "stream",
     "text": [
      "\n",
      "+-------------------------------------------------+\n",
      "|             Confusion Matrix Report             |\n",
      "+----------------------------------------+--------+\n",
      "|                  Term                  | Value  |\n",
      "+----------------------------------------+--------+\n",
      "|           TP (True Positive)           | 55220  |\n",
      "|           TN (True Negative)           | 14695  |\n",
      "|          FP (False Positive)           |  3143  |\n",
      "|          FN (False Negative)           | 32314  |\n",
      "| TPR (True Positive Rate)= TP/(TP+FN))  |  0.63  |\n",
      "| TNR (True Negative Rate)= TN/(TN+FP))  |  0.82  |\n",
      "| FPR (False Positive Rate)= FP/(FP+TN)) |  0.18  |\n",
      "| FNR (False Negative Rate)= FN/(TP+FN)) |  0.37  |\n",
      "| ACC (Accuracy)= (TP+TN)/(TP+FP+FN+TN)) | 66.35% |\n",
      "+----------------------------------------+--------+\n",
      "\n",
      "\n"
     ]
    }
   ],
   "source": [
    "# Instantiate decision tree.\n",
    "dt_estimator = DecisionTreeClassifier(min_samples_split = 4,\n",
    "                                      class_weight = \"balanced\")\n",
    "\n",
    "# Grid search cross Validation on average word2vec\n",
    "gscv = GridSearchCV(dt_estimator,\n",
    "                    scoring=\"accuracy\",\n",
    "                    param_grid=parameters,\n",
    "                    cv = TimeSeriesSplit(n_splits=10),                    \n",
    "                    n_jobs=-1)\n",
    "\n",
    "# Fit the model\n",
    "gscv.fit(x_train_matrix,Y_TRAIN)\n",
    "\n",
    "# Perform performance meausre,plot and draw reports.\n",
    "performance_measure(gscv,x_train_matrix,x_test_matrix,Y_TRAIN,Y_TEST)"
   ]
  },
  {
   "cell_type": "markdown",
   "metadata": {},
   "source": [
    "#### (2.2) Term Frequency - Inverse Document Frequency (TF-IDF) :"
   ]
  },
  {
   "cell_type": "code",
   "execution_count": 8,
   "metadata": {},
   "outputs": [
    {
     "name": "stdout",
     "output_type": "stream",
     "text": [
      "\n",
      "The type of count vectorizer  <class 'scipy.sparse.csr.csr_matrix'>\n",
      "The shape of train matrix  (245865, 487621)\n",
      "The number of unique words in train matrix  487621\n",
      "Wall time: 44.9 s\n"
     ]
    }
   ],
   "source": [
    "%%time\n",
    "\n",
    "# Instantiate TfidfVectorizer\n",
    "tfidf_vectorizer = TfidfVectorizer(min_df = 3,ngram_range=(1,2))\n",
    "\n",
    "# Tokenize and build vocab\n",
    "tfidf_vectorizer.fit(X_TRAIN)\n",
    "\n",
    "# Encode document\n",
    "x_train_matrix = tfidf_vectorizer.transform(X_TRAIN)\n",
    "x_test_matrix = tfidf_vectorizer.transform(X_TEST)\n",
    "\n",
    "print(\"\\nThe type of count vectorizer \",type(x_train_matrix))\n",
    "print(\"The shape of train matrix \",x_train_matrix.get_shape())\n",
    "print(\"The number of unique words in train matrix \", x_train_matrix.get_shape()[1])"
   ]
  },
  {
   "cell_type": "code",
   "execution_count": 9,
   "metadata": {},
   "outputs": [
    {
     "name": "stdout",
     "output_type": "stream",
     "text": [
      "-------------------------- GridSearchCV --------------------------\n",
      "\n"
     ]
    },
    {
     "data": {
      "image/png": "[encoded data removed]",
      "text/plain": [
       "<Figure size 432x288 with 1 Axes>"
      ]
     },
     "metadata": {
      "needs_background": "light"
     },
     "output_type": "display_data"
    },
    {
     "name": "stdout",
     "output_type": "stream",
     "text": [
      "\n",
      "\n",
      "+-----------------------------------------------------+\n",
      "|                     GridSearchCV                    |\n",
      "+------------------------+----------+------+----------+\n",
      "| Hyperparameter (depth) | Scoring  | Mean | Variance |\n",
      "+------------------------+----------+------+----------+\n",
      "|           3            | Accuracy | 0.54 |   0.03   |\n",
      "|           4            | Accuracy | 0.58 |   0.02   |\n",
      "|           5            | Accuracy | 0.57 |   0.02   |\n",
      "|           6            | Accuracy | 0.60 |   0.02   |\n",
      "|           7            | Accuracy | 0.62 |   0.03   |\n",
      "|           8            | Accuracy | 0.65 |   0.05   |\n",
      "|           9            | Accuracy | 0.69 |   0.02   |\n",
      "+------------------------+----------+------+----------+\n",
      "\n",
      "+----------------------------------------------+\n",
      "|    Optimal depth & Testing accuracy score    |\n",
      "+------------------+-------------+-------------+\n",
      "| Cross Validation | Depth value | Accuracy(%) |\n",
      "+------------------+-------------+-------------+\n",
      "|   GridSearchCV   |      9      |    70.23    |\n",
      "+------------------+-------------+-------------+\n",
      "\n",
      "+------------------------------------------------------------------+\n",
      "|            Classification report with depth value = 9            |\n",
      "+----------------------+-----------+--------+----------+-----------+\n",
      "| Class Lable/Averages | Precision | Recall | F1-Score |  Support  |\n",
      "+----------------------+-----------+--------+----------+-----------+\n",
      "|       negative       |    0.34   |  0.79  |   0.47   |  17838.00 |\n",
      "|       positive       |    0.94   |  0.68  |   0.79   |  87534.00 |\n",
      "|      micro avg       |    0.70   |  0.70  |   0.70   | 105372.00 |\n",
      "|      macro avg       |    0.64   |  0.74  |   0.63   | 105372.00 |\n",
      "|     weighted avg     |    0.84   |  0.70  |   0.74   | 105372.00 |\n",
      "+----------------------+-----------+--------+----------+-----------+\n"
     ]
    },
    {
     "data": {
      "image/png": "[encoded data removed]",
      "text/plain": [
       "<Figure size 432x288 with 2 Axes>"
      ]
     },
     "metadata": {
      "needs_background": "light"
     },
     "output_type": "display_data"
    },
    {
     "name": "stdout",
     "output_type": "stream",
     "text": [
      "\n",
      "+-------------------------------------------------+\n",
      "|             Confusion Matrix Report             |\n",
      "+----------------------------------------+--------+\n",
      "|                  Term                  | Value  |\n",
      "+----------------------------------------+--------+\n",
      "|           TP (True Positive)           | 59956  |\n",
      "|           TN (True Negative)           | 14048  |\n",
      "|          FP (False Positive)           |  3790  |\n",
      "|          FN (False Negative)           | 27578  |\n",
      "| TPR (True Positive Rate)= TP/(TP+FN))  |  0.68  |\n",
      "| TNR (True Negative Rate)= TN/(TN+FP))  |  0.79  |\n",
      "| FPR (False Positive Rate)= FP/(FP+TN)) |  0.21  |\n",
      "| FNR (False Negative Rate)= FN/(TP+FN)) |  0.32  |\n",
      "| ACC (Accuracy)= (TP+TN)/(TP+FP+FN+TN)) | 70.23% |\n",
      "+----------------------------------------+--------+\n",
      "\n",
      "\n"
     ]
    }
   ],
   "source": [
    "# Instantiate decision tree.\n",
    "dt_estimator = DecisionTreeClassifier(min_samples_split = 4,\n",
    "                                      class_weight = \"balanced\")\n",
    "\n",
    "\n",
    "# Grid search cross Validation on average word2vec\n",
    "gscv = GridSearchCV(dt_estimator,\n",
    "                    scoring=\"accuracy\",\n",
    "                    param_grid=parameters,\n",
    "                    cv = TimeSeriesSplit(n_splits=10),                   \n",
    "                    n_jobs=-1)\n",
    "\n",
    "# Fit the model\n",
    "gscv.fit(x_train_matrix,Y_TRAIN)\n",
    "\n",
    "# Perform performance meausre,plot and draw reports.\n",
    "performance_measure(gscv,x_train_matrix,x_test_matrix,Y_TRAIN,Y_TEST)"
   ]
  },
  {
   "cell_type": "markdown",
   "metadata": {},
   "source": [
    "#### (2.3) Average Word2Vec :"
   ]
  },
  {
   "cell_type": "code",
   "execution_count": 10,
   "metadata": {
    "scrolled": false
   },
   "outputs": [
    {
     "name": "stdout",
     "output_type": "stream",
     "text": [
      "Shape of training data :  (245865,)\n",
      "Shape of testing data :  (105372,)\n",
      "Number of sentences present in training data :  245865\n",
      "Number of sentences present in testing data :  105372\n",
      "Length of vocabulary :  24460\n"
     ]
    },
    {
     "name": "stderr",
     "output_type": "stream",
     "text": [
      "Average Word2Vec - Train data: 100%|███████████████████████████████████| 245865/245865 [04:30<00:00, 910.37 sentence/s]\n",
      "Average Word2Vec - Test data: 100%|████████████████████████████████████| 105372/105372 [02:04<00:00, 843.22 sentence/s]\n"
     ]
    },
    {
     "name": "stdout",
     "output_type": "stream",
     "text": [
      "\n",
      "Shape of training vectorizer :  (245865, 300)\n",
      "Shape of testing vectorizer :  (105372, 300)\n",
      "Wall time: 6min 59s\n"
     ]
    }
   ],
   "source": [
    "%%time\n",
    "\n",
    "# Create our own Word2Vec model from training data.\n",
    "        \n",
    "# Make list of list from training data\n",
    "list_of_sentences_in_train=[]\n",
    "for sentence in X_TRAIN:\n",
    "    list_of_sentences_in_train.append(sentence.split())\n",
    "            \n",
    "# Make list of list from testing data - this will be useful when vectorizing testing data.\n",
    "list_of_sentences_in_test=[]\n",
    "for sentence in X_TEST:\n",
    "    list_of_sentences_in_test.append(sentence.split())\n",
    "            \n",
    "print(\"Shape of training data : \",X_TRAIN.shape)\n",
    "print(\"Shape of testing data : \",X_TEST.shape)\n",
    "print(\"Number of sentences present in training data : \",len(list_of_sentences_in_train))\n",
    "print(\"Number of sentences present in testing data : \",len(list_of_sentences_in_test))\n",
    "        \n",
    "# Generate model\n",
    "w2v_model = Word2Vec(list_of_sentences_in_train,min_count=3,size=300, workers=6)\n",
    "        \n",
    "# List of word in vocabulary \n",
    "w2v_words = list(w2v_model.wv.vocab)\n",
    "print(\"Length of vocabulary : \",len(w2v_words))\n",
    "\n",
    "# Prepare train vectorizer using trained word2vec model\n",
    "train_list = []\n",
    "for sentence in tqdm(list_of_sentences_in_train,unit=\" sentence\",desc='Average Word2Vec - Train data'):\n",
    "    word_2_vec = np.zeros(300)\n",
    "    cnt_words = 0\n",
    "    for word in sentence:\n",
    "        if word in w2v_words:\n",
    "            vec = w2v_model.wv[word]\n",
    "            word_2_vec += vec\n",
    "            cnt_words += 1\n",
    "    if cnt_words != 0 :\n",
    "        word_2_vec /= cnt_words\n",
    "    train_list.append(word_2_vec)\n",
    "        \n",
    "# Prepare test vectorizer using trained word2vec model\n",
    "test_list = []\n",
    "for sentence in tqdm(list_of_sentences_in_test,unit=\" sentence\",desc='Average Word2Vec - Test data'):\n",
    "    word_2_vec = np.zeros(300)\n",
    "    cnt_words = 0\n",
    "    for word in sentence:\n",
    "        if word in w2v_words:\n",
    "            vec = w2v_model.wv[word]\n",
    "            word_2_vec += vec\n",
    "            cnt_words += 1\n",
    "    if cnt_words != 0 :\n",
    "        word_2_vec /= cnt_words\n",
    "    test_list.append(word_2_vec)\n",
    "            \n",
    "avg_w2v_train = np.array(train_list)\n",
    "avg_w2v_test = np.array(test_list)\n",
    "           \n",
    "\n",
    "print(\"\\nShape of training vectorizer : \",avg_w2v_train.shape)\n",
    "print(\"Shape of testing vectorizer : \",avg_w2v_test.shape)"
   ]
  },
  {
   "cell_type": "code",
   "execution_count": 11,
   "metadata": {
    "scrolled": false
   },
   "outputs": [
    {
     "name": "stdout",
     "output_type": "stream",
     "text": [
      "Fitting 10 folds for each of 7 candidates, totalling 70 fits\n"
     ]
    },
    {
     "name": "stderr",
     "output_type": "stream",
     "text": [
      "[Parallel(n_jobs=-1)]: Using backend LokyBackend with 6 concurrent workers.\n",
      "[Parallel(n_jobs=-1)]: Done  38 tasks      | elapsed:  3.1min\n",
      "[Parallel(n_jobs=-1)]: Done  70 out of  70 | elapsed:  7.4min finished\n"
     ]
    },
    {
     "name": "stdout",
     "output_type": "stream",
     "text": [
      "-------------------------- GridSearchCV --------------------------\n",
      "\n"
     ]
    },
    {
     "data": {
      "image/png": "[encoded data removed]",
      "text/plain": [
       "<Figure size 432x288 with 1 Axes>"
      ]
     },
     "metadata": {
      "needs_background": "light"
     },
     "output_type": "display_data"
    },
    {
     "name": "stdout",
     "output_type": "stream",
     "text": [
      "\n",
      "\n",
      "+-----------------------------------------------------+\n",
      "|                     GridSearchCV                    |\n",
      "+------------------------+----------+------+----------+\n",
      "| Hyperparameter (depth) | Scoring  | Mean | Variance |\n",
      "+------------------------+----------+------+----------+\n",
      "|           3            | Accuracy | 0.68 |   0.03   |\n",
      "|           4            | Accuracy | 0.73 |   0.05   |\n",
      "|           5            | Accuracy | 0.72 |   0.03   |\n",
      "|           6            | Accuracy | 0.74 |   0.01   |\n",
      "|           7            | Accuracy | 0.75 |   0.02   |\n",
      "|           8            | Accuracy | 0.76 |   0.01   |\n",
      "|           9            | Accuracy | 0.76 |   0.02   |\n",
      "+------------------------+----------+------+----------+\n",
      "\n",
      "+----------------------------------------------+\n",
      "|    Optimal depth & Testing accuracy score    |\n",
      "+------------------+-------------+-------------+\n",
      "| Cross Validation | Depth value | Accuracy(%) |\n",
      "+------------------+-------------+-------------+\n",
      "|   GridSearchCV   |      9      |    76.17    |\n",
      "+------------------+-------------+-------------+\n",
      "\n",
      "+------------------------------------------------------------------+\n",
      "|            Classification report with depth value = 9            |\n",
      "+----------------------+-----------+--------+----------+-----------+\n",
      "| Class Lable/Averages | Precision | Recall | F1-Score |  Support  |\n",
      "+----------------------+-----------+--------+----------+-----------+\n",
      "|       negative       |    0.40   |  0.78  |   0.53   |  17838.00 |\n",
      "|       positive       |    0.94   |  0.76  |   0.84   |  87534.00 |\n",
      "|      micro avg       |    0.76   |  0.76  |   0.76   | 105372.00 |\n",
      "|      macro avg       |    0.67   |  0.77  |   0.68   | 105372.00 |\n",
      "|     weighted avg     |    0.85   |  0.76  |   0.79   | 105372.00 |\n",
      "+----------------------+-----------+--------+----------+-----------+\n"
     ]
    },
    {
     "data": {
      "image/png": "[encoded data removed]",
      "text/plain": [
       "<Figure size 432x288 with 2 Axes>"
      ]
     },
     "metadata": {
      "needs_background": "light"
     },
     "output_type": "display_data"
    },
    {
     "name": "stdout",
     "output_type": "stream",
     "text": [
      "\n",
      "+-------------------------------------------------+\n",
      "|             Confusion Matrix Report             |\n",
      "+----------------------------------------+--------+\n",
      "|                  Term                  | Value  |\n",
      "+----------------------------------------+--------+\n",
      "|           TP (True Positive)           | 66294  |\n",
      "|           TN (True Negative)           | 13967  |\n",
      "|          FP (False Positive)           |  3871  |\n",
      "|          FN (False Negative)           | 21240  |\n",
      "| TPR (True Positive Rate)= TP/(TP+FN))  |  0.76  |\n",
      "| TNR (True Negative Rate)= TN/(TN+FP))  |  0.78  |\n",
      "| FPR (False Positive Rate)= FP/(FP+TN)) |  0.22  |\n",
      "| FNR (False Negative Rate)= FN/(TP+FN)) |  0.24  |\n",
      "| ACC (Accuracy)= (TP+TN)/(TP+FP+FN+TN)) | 76.17% |\n",
      "+----------------------------------------+--------+\n",
      "\n",
      "\n",
      "Wall time: 8min 43s\n"
     ]
    }
   ],
   "source": [
    "%%time\n",
    "\n",
    "# Instantiate decision tree.\n",
    "dt_estimator = DecisionTreeClassifier(min_samples_split = 4,\n",
    "                                      class_weight = \"balanced\")\n",
    "\n",
    "\n",
    "# Grid search cross Validation on average word2vec\n",
    "gscv = GridSearchCV(dt_estimator,\n",
    "                    scoring=\"accuracy\",\n",
    "                    param_grid=parameters,\n",
    "                    cv = TimeSeriesSplit(n_splits=10),                    \n",
    "                    verbose=1,\n",
    "                    n_jobs=-1)\n",
    "\n",
    "# Fit the model\n",
    "gscv.fit(avg_w2v_train,Y_TRAIN)\n",
    "\n",
    "# Perform performance meausre,plot and draw reports.\n",
    "performance_measure(gscv,avg_w2v_train,avg_w2v_test,Y_TRAIN,Y_TEST)"
   ]
  },
  {
   "cell_type": "markdown",
   "metadata": {},
   "source": [
    "#### (2.4) Term Frequency - Inverse Document Frequency Weighted Word2Vec(TF-IDF Word2Vec) :"
   ]
  },
  {
   "cell_type": "code",
   "execution_count": 12,
   "metadata": {
    "scrolled": false
   },
   "outputs": [
    {
     "name": "stderr",
     "output_type": "stream",
     "text": [
      "TF-IDF Weighted Word2Vec - Train data: 100%|██████████████████████████| 245865/245865 [01:05<00:00, 3731.01 sentence/s]\n",
      "TF-IDF Weighted Word2Vec - Test data: 100%|███████████████████████████| 105372/105372 [00:29<00:00, 3607.42 sentence/s]\n"
     ]
    },
    {
     "name": "stdout",
     "output_type": "stream",
     "text": [
      "\n",
      "Shape of training vectorizer :  (245865, 300)\n",
      "Shape of testing vectorizer :  (105372, 300)\n",
      "Wall time: 2min 37s\n"
     ]
    }
   ],
   "source": [
    "%%time\n",
    "\n",
    "# Make list of list from training data.      \n",
    "sentences_in_train=[]\n",
    "for sentence in X_TRAIN:\n",
    "    sentences_in_train.append(sentence.split())\n",
    "\n",
    "# Make list of list from testing data - this will be useful when vectorizing testing data.\n",
    "sentences_in_test=[]\n",
    "for sentence in X_TEST:\n",
    "    sentences_in_test.append(sentence.split())\n",
    "            \n",
    "# Generate model\n",
    "w2v_model = Word2Vec(sentences_in_train,min_count=3,size=300, workers=6)\n",
    "\n",
    "# Instantiate TfidfVectorizer\n",
    "tfidf_vectorizer = TfidfVectorizer(min_df = 3,ngram_range=(1,2))\n",
    "\n",
    "# Tokenize and build vocab\n",
    "tfidf_vectorizer.fit(X_TRAIN)\n",
    "\n",
    "# Encode document\n",
    "x_train_matrix = tfidf_vectorizer.transform(X_TRAIN)\n",
    "\n",
    "# Get feature names\n",
    "feature_names = tfidf_vectorizer.get_feature_names()\n",
    "\n",
    "# Dictionary with word as a key, and the idf as a value\n",
    "dict_word_idf = dict(zip(feature_names, list(tfidf_vectorizer.idf_)))\n",
    "\n",
    "# Prepare train vectorizer using trained word2vec model        \n",
    "train_list = []\n",
    "row = 0\n",
    "for sentence in tqdm(sentences_in_train,unit=\" sentence\",desc='TF-IDF Weighted Word2Vec - Train data'):\n",
    "    word_2_vec = np.zeros(300)\n",
    "    weight_tfidf_sum = 0\n",
    "    for word in sentence:\n",
    "        try:\n",
    "            vec = w2v_model.wv[word]\n",
    "            # dict_word_idf[word] = idf value of word in whole courpus\n",
    "            # sentence.count(word) = tf valeus of word in this review\n",
    "            tfidf_value =  dict_word_idf[word]*sentence.count(word)\n",
    "            word_2_vec += (vec * tfidf_value)\n",
    "            weight_tfidf_sum += tfidf_value\n",
    "        except:\n",
    "            pass\n",
    "    if weight_tfidf_sum != 0:\n",
    "        word_2_vec /= weight_tfidf_sum\n",
    "    train_list.append(word_2_vec)\n",
    "    row += 1\n",
    "        \n",
    "# Prepare test vectorizer using trained word2vec model\n",
    "test_list = []\n",
    "row = 0\n",
    "for sentence in tqdm(sentences_in_test, unit=\" sentence\",desc='TF-IDF Weighted Word2Vec - Test data'):\n",
    "    word_2_vec = np.zeros(300)\n",
    "    weight_tfidf_sum = 0\n",
    "    for word in sentence:\n",
    "        try:\n",
    "            vec = w2v_model.wv[word]\n",
    "            # dict_word_idf[word] = idf value of word in whole courpus\n",
    "            # sentence.count(word) = tf valeus of word in this review\n",
    "            tfidf_value =  dict_word_idf[word]*sentence.count(word)\n",
    "            word_2_vec += (vec * tfidf_value)\n",
    "            weight_tfidf_sum += tfidf_value\n",
    "        except:\n",
    "            pass\n",
    "    if weight_tfidf_sum != 0:\n",
    "        word_2_vec /= weight_tfidf_sum\n",
    "    test_list.append(word_2_vec)\n",
    "    row += 1\n",
    "        \n",
    "tfidf_w2v_train = np.array(train_list)\n",
    "tfidf_w2v_test = np.array(test_list)\n",
    "\n",
    "\n",
    "print(\"\\nShape of training vectorizer : \",tfidf_w2v_train.shape)\n",
    "print(\"Shape of testing vectorizer : \",tfidf_w2v_test.shape)"
   ]
  },
  {
   "cell_type": "code",
   "execution_count": 13,
   "metadata": {
    "scrolled": false
   },
   "outputs": [
    {
     "name": "stdout",
     "output_type": "stream",
     "text": [
      "Fitting 10 folds for each of 7 candidates, totalling 70 fits\n"
     ]
    },
    {
     "name": "stderr",
     "output_type": "stream",
     "text": [
      "[Parallel(n_jobs=-1)]: Using backend LokyBackend with 6 concurrent workers.\n",
      "[Parallel(n_jobs=-1)]: Done  38 tasks      | elapsed:  3.1min\n",
      "[Parallel(n_jobs=-1)]: Done  70 out of  70 | elapsed:  7.8min finished\n"
     ]
    },
    {
     "name": "stdout",
     "output_type": "stream",
     "text": [
      "-------------------------- GridSearchCV --------------------------\n",
      "\n"
     ]
    },
    {
     "data": {
      "image/png": "[encoded data removed]",
      "text/plain": [
       "<Figure size 432x288 with 1 Axes>"
      ]
     },
     "metadata": {
      "needs_background": "light"
     },
     "output_type": "display_data"
    },
    {
     "name": "stdout",
     "output_type": "stream",
     "text": [
      "\n",
      "\n",
      "+-----------------------------------------------------+\n",
      "|                     GridSearchCV                    |\n",
      "+------------------------+----------+------+----------+\n",
      "| Hyperparameter (depth) | Scoring  | Mean | Variance |\n",
      "+------------------------+----------+------+----------+\n",
      "|           3            | Accuracy | 0.64 |   0.06   |\n",
      "|           4            | Accuracy | 0.70 |   0.03   |\n",
      "|           5            | Accuracy | 0.68 |   0.03   |\n",
      "|           6            | Accuracy | 0.70 |   0.03   |\n",
      "|           7            | Accuracy | 0.71 |   0.02   |\n",
      "|           8            | Accuracy | 0.72 |   0.02   |\n",
      "|           9            | Accuracy | 0.73 |   0.04   |\n",
      "+------------------------+----------+------+----------+\n",
      "\n",
      "+----------------------------------------------+\n",
      "|    Optimal depth & Testing accuracy score    |\n",
      "+------------------+-------------+-------------+\n",
      "| Cross Validation | Depth value | Accuracy(%) |\n",
      "+------------------+-------------+-------------+\n",
      "|   GridSearchCV   |      9      |    72.35    |\n",
      "+------------------+-------------+-------------+\n",
      "\n",
      "+------------------------------------------------------------------+\n",
      "|            Classification report with depth value = 9            |\n",
      "+----------------------+-----------+--------+----------+-----------+\n",
      "| Class Lable/Averages | Precision | Recall | F1-Score |  Support  |\n",
      "+----------------------+-----------+--------+----------+-----------+\n",
      "|       negative       |    0.35   |  0.74  |   0.48   |  17838.00 |\n",
      "|       positive       |    0.93   |  0.72  |   0.81   |  87534.00 |\n",
      "|      micro avg       |    0.72   |  0.72  |   0.72   | 105372.00 |\n",
      "|      macro avg       |    0.64   |  0.73  |   0.64   | 105372.00 |\n",
      "|     weighted avg     |    0.83   |  0.72  |   0.76   | 105372.00 |\n",
      "+----------------------+-----------+--------+----------+-----------+\n"
     ]
    },
    {
     "data": {
      "image/png": "[encoded data removed]",
      "text/plain": [
       "<Figure size 432x288 with 2 Axes>"
      ]
     },
     "metadata": {
      "needs_background": "light"
     },
     "output_type": "display_data"
    },
    {
     "name": "stdout",
     "output_type": "stream",
     "text": [
      "\n",
      "+-------------------------------------------------+\n",
      "|             Confusion Matrix Report             |\n",
      "+----------------------------------------+--------+\n",
      "|                  Term                  | Value  |\n",
      "+----------------------------------------+--------+\n",
      "|           TP (True Positive)           | 63038  |\n",
      "|           TN (True Negative)           | 13203  |\n",
      "|          FP (False Positive)           |  4635  |\n",
      "|          FN (False Negative)           | 24496  |\n",
      "| TPR (True Positive Rate)= TP/(TP+FN))  |  0.72  |\n",
      "| TNR (True Negative Rate)= TN/(TN+FP))  |  0.74  |\n",
      "| FPR (False Positive Rate)= FP/(FP+TN)) |  0.26  |\n",
      "| FNR (False Negative Rate)= FN/(TP+FN)) |  0.28  |\n",
      "| ACC (Accuracy)= (TP+TN)/(TP+FP+FN+TN)) | 72.35% |\n",
      "+----------------------------------------+--------+\n",
      "\n",
      "\n",
      "Wall time: 9min 17s\n"
     ]
    }
   ],
   "source": [
    "%%time\n",
    "\n",
    "# Instantiate decision tree.\n",
    "dt_estimator = DecisionTreeClassifier(min_samples_split = 4,\n",
    "                                      class_weight = \"balanced\")\n",
    "\n",
    "\n",
    "# Grid search cross Validation on tfidf weighted word2vec\n",
    "gscv = GridSearchCV(dt_estimator,\n",
    "                    scoring=\"accuracy\",\n",
    "                    param_grid=parameters,\n",
    "                    cv = TimeSeriesSplit(n_splits=10),                    \n",
    "                    verbose=1,\n",
    "                    n_jobs=-1)\n",
    "\n",
    "# Fit the model\n",
    "gscv.fit(tfidf_w2v_train,Y_TRAIN)\n",
    "\n",
    "# Perform performance meausre,plot and draw reports.\n",
    "performance_measure(gscv,tfidf_w2v_train,tfidf_w2v_test,Y_TRAIN,Y_TEST)"
   ]
  },
  {
   "cell_type": "markdown",
   "metadata": {},
   "source": [
    "<br/><br/>"
   ]
  },
  {
   "cell_type": "markdown",
   "metadata": {},
   "source": [
    "---\n",
    "### Conclusion :\n",
    "---"
   ]
  },
  {
   "cell_type": "code",
   "execution_count": 14,
   "metadata": {
    "scrolled": false
   },
   "outputs": [
    {
     "name": "stdout",
     "output_type": "stream",
     "text": [
      "+--------------------------------------------------------------------------------------------------------+\n",
      "|                                            ***Conclusion***                                            |\n",
      "+--------------+----------------------------+------------------------+-------------+---------------------+\n",
      "|      CV      |           Model            | Hyperparameter 'depth' | Train Error |      Test Error     |\n",
      "+--------------+----------------------------+------------------------+-------------+---------------------+\n",
      "| GridSearchCV |     BOW:Decision Tree      |           9            |    33.0%    |        34.0%        |\n",
      "| GridSearchCV |    TFIDF:Decision Tree     |           9            |    30.0%    |        30.0%        |\n",
      "| GridSearchCV | AVG-WORD2VEC:Decision Tree |           9            |    21.0%    |        24.0%        |\n",
      "| GridSearchCV |   TFIDF-WORD2VEC:RBF-SVC   |           9            |    25.0%    | 28.000000000000004% |\n",
      "+--------------+----------------------------+------------------------+-------------+---------------------+\n"
     ]
    }
   ],
   "source": [
    "conclude()"
   ]
  },
  {
   "cell_type": "markdown",
   "metadata": {},
   "source": [
    "---\n",
    "### Observations :\n",
    "---"
   ]
  },
  {
   "cell_type": "markdown",
   "metadata": {},
   "source": [
    "> 1. Here, desicison tree is applied on amazon fine food review dataset with time series splitting(~364K).\n",
    "> 2. Given dataset is imbalanced in nature (postive reviews:negative reviews = 5.57/1).\n",
    "> 3. Grid search 10-fold technique is applied to calculate optimal hyperparameter 'max_depth'.\n",
    "> 4. Decision tree does not perform well with text vectors,as you can see the accuracy in the conclusion table.\n",
    "> 5. We can increase the accuracy by incrasing the max_depth value, but that is not recommended, becsuse high max_deth value will force data to overfit.\n",
    "> 6. As you increase the range of max_depth, it will overfit and will become prone to outliers, so thats why we have taken range from 3 to 9.\n",
    "> 7. To manitain bias-variance tradeoff, we can stick with the same hyperpaameter value that we have calculated.\n",
    "> 8. for more information you can always refer to conclusion table above."
   ]
  }
 ],
 "metadata": {
  "kernelspec": {
   "display_name": "Python 3",
   "language": "python",
   "name": "python3"
  },
  "language_info": {
   "codemirror_mode": {
    "name": "ipython",
    "version": 3
   },
   "file_extension": ".py",
   "mimetype": "text/x-python",
   "name": "python",
   "nbconvert_exporter": "python",
   "pygments_lexer": "ipython3",
   "version": "3.6.6"
  }
 },
 "nbformat": 4,
 "nbformat_minor": 2
}
